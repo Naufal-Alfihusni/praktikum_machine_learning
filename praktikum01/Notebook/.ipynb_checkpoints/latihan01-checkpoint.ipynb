{
 "cells": [
  {
   "cell_type": "code",
   "execution_count": 2,
   "id": "608d6b87",
   "metadata": {},
   "outputs": [
    {
     "data": {
      "text/html": [
       "<div>\n",
       "<style scoped>\n",
       "    .dataframe tbody tr th:only-of-type {\n",
       "        vertical-align: middle;\n",
       "    }\n",
       "\n",
       "    .dataframe tbody tr th {\n",
       "        vertical-align: top;\n",
       "    }\n",
       "\n",
       "    .dataframe thead th {\n",
       "        text-align: right;\n",
       "    }\n",
       "</style>\n",
       "<table border=\"1\" class=\"dataframe\">\n",
       "  <thead>\n",
       "    <tr style=\"text-align: right;\">\n",
       "      <th></th>\n",
       "      <th></th>\n",
       "      <th></th>\n",
       "      <th></th>\n",
       "      <th></th>\n",
       "      <th></th>\n",
       "    </tr>\n",
       "    <tr>\n",
       "      <th>instant</th>\n",
       "      <th>dteday</th>\n",
       "      <th>season</th>\n",
       "      <th>temp</th>\n",
       "      <th>hum</th>\n",
       "      <th>windspeed</th>\n",
       "    </tr>\n",
       "  </thead>\n",
       "  <tbody>\n",
       "    <tr>\n",
       "      <th>1</th>\n",
       "      <th>2011-01-01</th>\n",
       "      <th>1</th>\n",
       "      <th>0.24</th>\n",
       "      <th>0.81</th>\n",
       "      <th>0.0</th>\n",
       "    </tr>\n",
       "    <tr>\n",
       "      <th>2</th>\n",
       "      <th>2011-01-01</th>\n",
       "      <th>1</th>\n",
       "      <th>0.22</th>\n",
       "      <th>0.80</th>\n",
       "      <th>0.0</th>\n",
       "    </tr>\n",
       "    <tr>\n",
       "      <th>3</th>\n",
       "      <th>2011-01-01</th>\n",
       "      <th>1</th>\n",
       "      <th>0.22</th>\n",
       "      <th>0.80</th>\n",
       "      <th>0.0</th>\n",
       "    </tr>\n",
       "    <tr>\n",
       "      <th>4</th>\n",
       "      <th>2011-01-01</th>\n",
       "      <th>1</th>\n",
       "      <th>0.24</th>\n",
       "      <th>0.75</th>\n",
       "      <th>0.0</th>\n",
       "    </tr>\n",
       "    <tr>\n",
       "      <th>5</th>\n",
       "      <th>2011-01-01</th>\n",
       "      <th>1</th>\n",
       "      <th>0.24</th>\n",
       "      <th>0.75</th>\n",
       "      <th>0.0</th>\n",
       "    </tr>\n",
       "  </tbody>\n",
       "</table>\n",
       "</div>"
      ],
      "text/plain": [
       "Empty DataFrame\n",
       "Columns: []\n",
       "Index: [(1, 2011-01-01, 1, 0.24, 0.81, 0.0), (2, 2011-01-01, 1, 0.22, 0.8, 0.0), (3, 2011-01-01, 1, 0.22, 0.8, 0.0), (4, 2011-01-01, 1, 0.24, 0.75, 0.0), (5, 2011-01-01, 1, 0.24, 0.75, 0.0)]"
      ]
     },
     "execution_count": 2,
     "metadata": {},
     "output_type": "execute_result"
    }
   ],
   "source": [
    "import pandas as pd\n",
    "import os\n",
    "\n",
    "\n",
    "df1 = [\"instant\",\"dteday\",\"season\",\"temp\",\"hum\",\"windspeed\"]\n",
    "\n",
    "df = pd.read_csv('../Data/hour.csv', index_col=[\"instant\",\"dteday\",\"season\",\"temp\",\"hum\",\"windspeed\"], usecols=df1, sep=',' )\n",
    "\n",
    "df.to_csv('../Data/latihan01.csv')\n",
    "df.head()"
   ]
  }
 ],
 "metadata": {
  "kernelspec": {
   "display_name": "Python 3",
   "language": "python",
   "name": "python3"
  },
  "language_info": {
   "codemirror_mode": {
    "name": "ipython",
    "version": 3
   },
   "file_extension": ".py",
   "mimetype": "text/x-python",
   "name": "python",
   "nbconvert_exporter": "python",
   "pygments_lexer": "ipython3",
   "version": "3.13.0"
  }
 },
 "nbformat": 4,
 "nbformat_minor": 5
}
